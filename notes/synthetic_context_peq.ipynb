{
 "cells": [
  {
   "cell_type": "code",
   "execution_count": 1,
   "metadata": {},
   "outputs": [],
   "source": [
    "import sys\n",
    "\n",
    "if \"../src\" not in sys.path:\n",
    "    sys.path.insert(0, \"../src\")"
   ]
  },
  {
   "cell_type": "code",
   "execution_count": 2,
   "metadata": {},
   "outputs": [],
   "source": [
    "import os\n",
    "import json\n",
    "import copy\n",
    "import pprint\n",
    "import ast\n",
    "import re\n",
    "from tqdm import tqdm\n",
    "\n",
    "import numpy as np\n",
    "import pandas as pd\n",
    "import matplotlib.pyplot as plt\n",
    "import seaborn as sns\n",
    "from IPython import display\n",
    "\n",
    "import torch\n",
    "\n",
    "from utils import read_json_file"
   ]
  },
  {
   "cell_type": "code",
   "execution_count": 4,
   "metadata": {},
   "outputs": [
    {
     "name": "stderr",
     "output_type": "stream",
     "text": [
      "[nltk_data] Downloading package punkt to\n",
      "[nltk_data]     /cephyr/users/mehrdadf/Alvis/nltk_data...\n",
      "[nltk_data]   Package punkt is already up-to-date!\n"
     ]
    }
   ],
   "source": [
    "import nltk\n",
    "nltk.download('punkt')\n",
    "from nltk.tokenize import word_tokenize"
   ]
  },
  {
   "cell_type": "code",
   "execution_count": 5,
   "metadata": {},
   "outputs": [
    {
     "name": "stderr",
     "output_type": "stream",
     "text": [
      "/mimer/NOBACKUP/groups/snic2022-22-1003/APP/rag-memory-interplay/venv/lib/python3.9/site-packages/transformers/utils/hub.py:127: FutureWarning: Using `TRANSFORMERS_CACHE` is deprecated and will be removed in v5 of Transformers. Use `HF_HOME` instead.\n",
      "  warnings.warn(\n"
     ]
    }
   ],
   "source": [
    "from experiments.utils import load_atlas\n",
    "from experiments.tools import predict_token"
   ]
  },
  {
   "cell_type": "code",
   "execution_count": 1,
   "metadata": {},
   "outputs": [
    {
     "ename": "NameError",
     "evalue": "name 'load_atlas' is not defined",
     "output_type": "error",
     "traceback": [
      "\u001b[0;31m---------------------------------------------------------------------------\u001b[0m",
      "\u001b[0;31mNameError\u001b[0m                                 Traceback (most recent call last)",
      "Cell \u001b[0;32mIn[1], line 10\u001b[0m\n\u001b[1;32m      8\u001b[0m reader_model_type \u001b[39m=\u001b[39m \u001b[39mf\u001b[39m\u001b[39m\"\u001b[39m\u001b[39mgoogle/t5-\u001b[39m\u001b[39m{\u001b[39;00mSIZE\u001b[39m}\u001b[39;00m\u001b[39m-lm-adapt\u001b[39m\u001b[39m\"\u001b[39m\n\u001b[1;32m      9\u001b[0m model_path \u001b[39m=\u001b[39m \u001b[39mf\u001b[39m\u001b[39m\"\u001b[39m\u001b[39m../data/atlas/models/atlas_nq/\u001b[39m\u001b[39m{\u001b[39;00mSIZE\u001b[39m}\u001b[39;00m\u001b[39m\"\u001b[39m\n\u001b[0;32m---> 10\u001b[0m model, opt \u001b[39m=\u001b[39m load_atlas(reader_model_type, model_path, n_context\u001b[39m=\u001b[39m\u001b[39m1\u001b[39m, qa_prompt_format\u001b[39m=\u001b[39m\u001b[39m\"\u001b[39m\u001b[39mquestion: \u001b[39m\u001b[39m{question}\u001b[39;00m\u001b[39m answer: <extra_id_0>\u001b[39m\u001b[39m\"\u001b[39m)\n\u001b[1;32m     11\u001b[0m \u001b[39mtype\u001b[39m(model)\n",
      "\u001b[0;31mNameError\u001b[0m: name 'load_atlas' is not defined"
     ]
    }
   ],
   "source": [
    "os.environ[\"WANDB_CACHE_DIR\"] = f\"../../caches/wandb\"\n",
    "os.environ[\"TRANSFORMERS_CACHE\"]= f\"../../.cache/huggingface/transformers\"\n",
    "os.environ[\"HF_DATASETS_CACHE\"] = f\"../../.cache/huggingface/datasets\"\n",
    "\n",
    "SIZE = \"base\"  # \"base\", \"large\"\n",
    "QA_PROMPT_FORMAT = \"question: {question} answer: <extra_id_0>\"\n",
    "\n",
    "reader_model_type = f\"google/t5-{SIZE}-lm-adapt\"\n",
    "model_path = f\"../data/atlas/models/atlas_nq/{SIZE}\"\n",
    "model, opt = load_atlas(reader_model_type, model_path, n_context=1, qa_prompt_format=\"question: {question} answer: <extra_id_0>\")\n",
    "type(model)\n"
   ]
  },
  {
   "cell_type": "code",
   "execution_count": 7,
   "metadata": {},
   "outputs": [],
   "source": [
    "# P170 => Who was [E] created by?\n",
    "# P112 => Who founded [E]?\n",
    "# P276 => Where is [E] located?\n",
    "# P106 => What kind of work does [E] do?\n",
    "# P131 => Where is [E] located?\n",
    "# P495 => Which country was [E] created in?\n",
    "# P175 => Who performed [E]?\n",
    "# P127 => Who owns [E]?\n",
    "# P159 => Where is the headquarter of [E]?\n",
    "# P26 => Who is [E] married to?\n",
    "# P413 => What position does [E] play?\n",
    "# P800 => What is [E] famous for?\n",
    "# P136 => What type of music does [E] play?\n",
    "# P740 => Where was [E] founded?\n",
    "# P407 => Which language was [E] written in?\n",
    "# P50 => Who is the author of [E]?\n",
    "# P19 => Where was [E] born?\n",
    "# P20 => Where did [E] die?\n",
    "# P17 => Which country is [E] located in?\n",
    "# P69 => Where was [E] educated?\n",
    "# P176 => Which company is [E] produced by?\n",
    "# P40 => Who is [E]'s child?\n",
    "# P264 => What music label is [E] represented by?\n",
    "# P36 => What is the capital of [E]?"
   ]
  },
  {
   "cell_type": "code",
   "execution_count": 8,
   "metadata": {},
   "outputs": [],
   "source": [
    "context_templates = {\n",
    "    \"P106\": \"{subj} is employed as a {obj} according to structured data.\",\n",
    "    \"P19\": \"According to records, {subj} was born in {obj}.\",\n",
    "    \"P17\": \"{subj} is located in the country of {obj}.\",\n",
    "    \"P36\": \"According to records, the capital of {subj} is {obj}.\",\n",
    "    \"P50\": \"According to records, {obj} authored {subj}.\",\n",
    "    \"P175\": \"{obj} performed the song {subj}.\",\n",
    "    \"P264\": \"{subj} is represented by the music label {obj}.\",\n",
    "    \"P131\": \"{subj} is located in {obj}.\",\n",
    "    \"P495\": \"{subj} was created in {obj}.\",\n",
    "    \"P276\": \"The {subj} took place in {obj}.\",\n",
    "    \"P40\": \"{obj} is the child of {subj}.\",\n",
    "    \"P159\": \"The headquarters of {subj} is located in {obj}.\",\n",
    "    \"P176\": \"The {subj} is produced by the company {obj}.\",\n",
    "    \"P26\": \"{subj} is married to {obj}.\",\n",
    "    \"P127\": \"{subj} is owned by {obj}.\",\n",
    "    \"P69\": \"{subj} received their education at {obj}.\",\n",
    "    \"P740\": \"{subj} was founded in {obj}.\",\n",
    "    \"P20\": \"{subj} passed away in {obj}.\",\n",
    "    \"P112\": \"{obj} founded the {subj}.\",\n",
    "    \"P407\": \"{subj} was written in the {obj} language.\",\n",
    "    \"P170\": \"{obj} is credited with creating {subj}.\",\n",
    "    \"P800\": \"{subj} is renowned for {obj}.\",\n",
    "    \"P413\": \"{subj} plays in the position of {obj}.\"\n",
    "}"
   ]
  },
  {
   "cell_type": "code",
   "execution_count": 9,
   "metadata": {},
   "outputs": [
    {
     "name": "stdout",
     "output_type": "stream",
     "text": [
      "We have #44143 data\n",
      "We have #42125 data\n"
     ]
    },
    {
     "data": {
      "text/html": [
       "<div>\n",
       "<style scoped>\n",
       "    .dataframe tbody tr th:only-of-type {\n",
       "        vertical-align: middle;\n",
       "    }\n",
       "\n",
       "    .dataframe tbody tr th {\n",
       "        vertical-align: top;\n",
       "    }\n",
       "\n",
       "    .dataframe thead th {\n",
       "        text-align: right;\n",
       "    }\n",
       "</style>\n",
       "<table border=\"1\" class=\"dataframe\">\n",
       "  <thead>\n",
       "    <tr style=\"text-align: right;\">\n",
       "      <th></th>\n",
       "      <th>question</th>\n",
       "      <th>answers</th>\n",
       "      <th>query</th>\n",
       "      <th>subj</th>\n",
       "      <th>prop</th>\n",
       "      <th>obj</th>\n",
       "      <th>metadata</th>\n",
       "      <th>passages</th>\n",
       "    </tr>\n",
       "  </thead>\n",
       "  <tbody>\n",
       "    <tr>\n",
       "      <th>0</th>\n",
       "      <td>Where was Michael Jack born?</td>\n",
       "      <td>[Folkestone]</td>\n",
       "      <td>question: Where was Michael Jack born? answer:...</td>\n",
       "      <td>Michael Jack</td>\n",
       "      <td>P19</td>\n",
       "      <td>Folkestone</td>\n",
       "      <td>[]</td>\n",
       "      <td>[{'title': '', 'text': 'According to records, ...</td>\n",
       "    </tr>\n",
       "    <tr>\n",
       "      <th>1</th>\n",
       "      <td>Where was Vitaly Samoshko born?</td>\n",
       "      <td>[Kharkiv]</td>\n",
       "      <td>question: Where was Vitaly Samoshko born? answ...</td>\n",
       "      <td>Vitaly Samoshko</td>\n",
       "      <td>P19</td>\n",
       "      <td>Kharkiv</td>\n",
       "      <td>[]</td>\n",
       "      <td>[{'title': '', 'text': 'According to records, ...</td>\n",
       "    </tr>\n",
       "  </tbody>\n",
       "</table>\n",
       "</div>"
      ],
      "text/plain": [
       "                          question       answers  \\\n",
       "0     Where was Michael Jack born?  [Folkestone]   \n",
       "1  Where was Vitaly Samoshko born?     [Kharkiv]   \n",
       "\n",
       "                                               query             subj prop  \\\n",
       "0  question: Where was Michael Jack born? answer:...     Michael Jack  P19   \n",
       "1  question: Where was Vitaly Samoshko born? answ...  Vitaly Samoshko  P19   \n",
       "\n",
       "          obj metadata                                           passages  \n",
       "0  Folkestone       []  [{'title': '', 'text': 'According to records, ...  \n",
       "1     Kharkiv       []  [{'title': '', 'text': 'According to records, ...  "
      ]
     },
     "execution_count": 9,
     "metadata": {},
     "output_type": "execute_result"
    }
   ],
   "source": [
    "rows = (\n",
    "    read_json_file(\"../data/atlas/peq_data/dev.jsonl\", jsonl=True)\n",
    "    +\n",
    "    read_json_file(\"../data/atlas/peq_data/test.jsonl\", jsonl=True)\n",
    ")\n",
    "data = []\n",
    "\n",
    "for row in rows:\n",
    "    data.append({\n",
    "        \"question\": row[\"question\"],\n",
    "        \"answers\": [row[\"triplet\"][\"obj\"]],\n",
    "        \"query\": f\"question: {row['question']} answer: <extra_id_0>\",\n",
    "        \"subj\": row[\"triplet\"][\"subj\"],\n",
    "        \"prop\": row[\"triplet\"][\"prop\"],\n",
    "        \"prop\": row[\"triplet\"][\"prop_code\"],\n",
    "        \"obj\": row[\"triplet\"][\"obj\"],\n",
    "        \"metadata\": [],\n",
    "        \"passages\": [{\"title\": \"\", \"text\": context_templates.get(row[\"triplet\"][\"prop_code\"], \"\").format(subj=row[\"triplet\"][\"subj\"], obj=row[\"triplet\"][\"obj\"])}] \n",
    "        if context_templates.get(row[\"triplet\"][\"prop_code\"], None) else None\n",
    "    })\n",
    "\n",
    "    # break\n",
    "\n",
    "df = pd.DataFrame(data)\n",
    "print(f\"We have #{len(df)} data\")\n",
    "df = df.dropna()\n",
    "df = df.drop_duplicates(subset=[\"query\", \"subj\", \"obj\"], keep=\"first\").reset_index(drop=True)\n",
    "print(f\"We have #{len(df)} data\")\n",
    "df.head(2)"
   ]
  },
  {
   "cell_type": "code",
   "execution_count": 10,
   "metadata": {},
   "outputs": [
    {
     "data": {
      "text/plain": [
       "{'question': 'Where was Michael Jack born?',\n",
       " 'answers': ['Folkestone'],\n",
       " 'query': 'question: Where was Michael Jack born? answer: <extra_id_0>',\n",
       " 'subj': 'Michael Jack',\n",
       " 'prop': 'P19',\n",
       " 'obj': 'Folkestone',\n",
       " 'metadata': [],\n",
       " 'passages': [{'title': '',\n",
       "   'text': 'According to records, Michael Jack was born in Folkestone.'}]}"
      ]
     },
     "execution_count": 10,
     "metadata": {},
     "output_type": "execute_result"
    }
   ],
   "source": [
    "df.iloc[0].to_dict()"
   ]
  },
  {
   "cell_type": "code",
   "execution_count": 11,
   "metadata": {},
   "outputs": [
    {
     "data": {
      "text/html": [
       "<div>\n",
       "<style scoped>\n",
       "    .dataframe tbody tr th:only-of-type {\n",
       "        vertical-align: middle;\n",
       "    }\n",
       "\n",
       "    .dataframe tbody tr th {\n",
       "        vertical-align: top;\n",
       "    }\n",
       "\n",
       "    .dataframe thead th {\n",
       "        text-align: right;\n",
       "    }\n",
       "</style>\n",
       "<table border=\"1\" class=\"dataframe\">\n",
       "  <thead>\n",
       "    <tr style=\"text-align: right;\">\n",
       "      <th></th>\n",
       "      <th>subj</th>\n",
       "      <th>prop</th>\n",
       "      <th>tokens</th>\n",
       "      <th>len</th>\n",
       "    </tr>\n",
       "  </thead>\n",
       "  <tbody>\n",
       "    <tr>\n",
       "      <th>0</th>\n",
       "      <td>Michael Jack</td>\n",
       "      <td>P19</td>\n",
       "      <td>[▁Michael, ▁Jack]</td>\n",
       "      <td>2</td>\n",
       "    </tr>\n",
       "    <tr>\n",
       "      <th>1</th>\n",
       "      <td>Vitaly Samoshko</td>\n",
       "      <td>P19</td>\n",
       "      <td>[▁Vital, y, ▁Sam, o, s, h, k, o]</td>\n",
       "      <td>8</td>\n",
       "    </tr>\n",
       "    <tr>\n",
       "      <th>2</th>\n",
       "      <td>Dezső Ránki</td>\n",
       "      <td>P19</td>\n",
       "      <td>[▁De, z, s, ő, ▁R, án, ki]</td>\n",
       "      <td>7</td>\n",
       "    </tr>\n",
       "    <tr>\n",
       "      <th>3</th>\n",
       "      <td>Clemens Busch</td>\n",
       "      <td>P19</td>\n",
       "      <td>[▁C, le, men, s, ▁Bus, ch]</td>\n",
       "      <td>6</td>\n",
       "    </tr>\n",
       "    <tr>\n",
       "      <th>4</th>\n",
       "      <td>Emil Fackenheim</td>\n",
       "      <td>P19</td>\n",
       "      <td>[▁Emil, ▁Fa, cken, heim]</td>\n",
       "      <td>4</td>\n",
       "    </tr>\n",
       "  </tbody>\n",
       "</table>\n",
       "</div>"
      ],
      "text/plain": [
       "              subj prop                            tokens  len\n",
       "0     Michael Jack  P19                 [▁Michael, ▁Jack]    2\n",
       "1  Vitaly Samoshko  P19  [▁Vital, y, ▁Sam, o, s, h, k, o]    8\n",
       "2      Dezső Ránki  P19        [▁De, z, s, ő, ▁R, án, ki]    7\n",
       "3    Clemens Busch  P19        [▁C, le, men, s, ▁Bus, ch]    6\n",
       "4  Emil Fackenheim  P19          [▁Emil, ▁Fa, cken, heim]    4"
      ]
     },
     "execution_count": 11,
     "metadata": {},
     "output_type": "execute_result"
    }
   ],
   "source": [
    "subj_df = pd.DataFrame([{\"subj\": row[\"subj\"], \"prop\": row[\"prop\"], \"tokens\": model.reader_tokenizer.tokenize(row[\"subj\"]), \"len\": len(model.reader_tokenizer.tokenize(row[\"subj\"]))} for i, row in df.iterrows()])\n",
    "subj_df = subj_df.drop_duplicates(subset=[\"subj\", \"prop\"])\n",
    "subj_df = subj_df.reset_index(drop=True)\n",
    "subj_df.head()"
   ]
  },
  {
   "cell_type": "code",
   "execution_count": 12,
   "metadata": {},
   "outputs": [
    {
     "data": {
      "text/html": [
       "<div>\n",
       "<style scoped>\n",
       "    .dataframe tbody tr th:only-of-type {\n",
       "        vertical-align: middle;\n",
       "    }\n",
       "\n",
       "    .dataframe tbody tr th {\n",
       "        vertical-align: top;\n",
       "    }\n",
       "\n",
       "    .dataframe thead th {\n",
       "        text-align: right;\n",
       "    }\n",
       "</style>\n",
       "<table border=\"1\" class=\"dataframe\">\n",
       "  <thead>\n",
       "    <tr style=\"text-align: right;\">\n",
       "      <th></th>\n",
       "      <th>obj</th>\n",
       "      <th>prop</th>\n",
       "      <th>tokens</th>\n",
       "      <th>len</th>\n",
       "    </tr>\n",
       "  </thead>\n",
       "  <tbody>\n",
       "    <tr>\n",
       "      <th>0</th>\n",
       "      <td>Folkestone</td>\n",
       "      <td>P19</td>\n",
       "      <td>[▁Folk, e, stone]</td>\n",
       "      <td>3</td>\n",
       "    </tr>\n",
       "    <tr>\n",
       "      <th>1</th>\n",
       "      <td>Kharkiv</td>\n",
       "      <td>P19</td>\n",
       "      <td>[▁Kha, r, ki, v]</td>\n",
       "      <td>4</td>\n",
       "    </tr>\n",
       "    <tr>\n",
       "      <th>2</th>\n",
       "      <td>Budapest</td>\n",
       "      <td>P19</td>\n",
       "      <td>[▁Budapest]</td>\n",
       "      <td>1</td>\n",
       "    </tr>\n",
       "    <tr>\n",
       "      <th>3</th>\n",
       "      <td>Cologne</td>\n",
       "      <td>P19</td>\n",
       "      <td>[▁C, ologne]</td>\n",
       "      <td>2</td>\n",
       "    </tr>\n",
       "    <tr>\n",
       "      <th>4</th>\n",
       "      <td>Halle (Saale)</td>\n",
       "      <td>P19</td>\n",
       "      <td>[▁Hall, e, ▁(, S, a, a, le, )]</td>\n",
       "      <td>8</td>\n",
       "    </tr>\n",
       "  </tbody>\n",
       "</table>\n",
       "</div>"
      ],
      "text/plain": [
       "             obj prop                          tokens  len\n",
       "0     Folkestone  P19               [▁Folk, e, stone]    3\n",
       "1        Kharkiv  P19                [▁Kha, r, ki, v]    4\n",
       "2       Budapest  P19                     [▁Budapest]    1\n",
       "3        Cologne  P19                    [▁C, ologne]    2\n",
       "4  Halle (Saale)  P19  [▁Hall, e, ▁(, S, a, a, le, )]    8"
      ]
     },
     "execution_count": 12,
     "metadata": {},
     "output_type": "execute_result"
    }
   ],
   "source": [
    "obj_df = pd.DataFrame([{\"obj\": row[\"obj\"], \"prop\": row[\"prop\"], \"tokens\": model.reader_tokenizer.tokenize(row[\"obj\"]), \"len\": len(model.reader_tokenizer.tokenize(row[\"obj\"]))} for i, row in df.iterrows()])\n",
    "obj_df = obj_df.drop_duplicates(subset=[\"obj\", \"prop\"])\n",
    "obj_df = obj_df.reset_index(drop=True)\n",
    "obj_df.head()"
   ]
  },
  {
   "cell_type": "code",
   "execution_count": 13,
   "metadata": {},
   "outputs": [
    {
     "data": {
      "image/png": "[encoded data removed]",
      "text/plain": [
       "<Figure size 1200x800 with 1 Axes>"
      ]
     },
     "metadata": {},
     "output_type": "display_data"
    }
   ],
   "source": [
    "prop_counts = df['prop'].value_counts()\n",
    "plt.figure(figsize=(12, 8)) \n",
    "prop_counts.plot(kind='bar')\n",
    "plt.title('Distribution of \"prop\" in the Dataset')\n",
    "plt.xlabel('Prop')\n",
    "plt.ylabel('Frequency')\n",
    "plt.xticks(rotation=90)  # Rotates the x-axis labels for better readability\n",
    "plt.show()"
   ]
  },
  {
   "cell_type": "code",
   "execution_count": 14,
   "metadata": {},
   "outputs": [
    {
     "data": {
      "text/plain": [
       "42125"
      ]
     },
     "execution_count": 14,
     "metadata": {},
     "output_type": "execute_result"
    }
   ],
   "source": [
    "prop_counts.sum()\n",
    "# 41575"
   ]
  },
  {
   "cell_type": "code",
   "execution_count": 15,
   "metadata": {},
   "outputs": [],
   "source": [
    "def filter_attribute_same_domain(df, row, model, attribute=\"subj\", k=10, random_state=101):\n",
    "    \"\"\"Filters attribute based on specific criteria.\"\"\"\n",
    "    # Combine conditions to filter df in one step\n",
    "    conditions = (\n",
    "        (df[attribute] != row[attribute]) &\n",
    "        (df[\"prop\"] == row[\"prop\"]) &\n",
    "        (df[\"len\"].apply(lambda x: x == len(model.reader_tokenizer.tokenize(row[attribute]))))\n",
    "    )\n",
    "\n",
    "    filtered_df = df[conditions]\n",
    "\n",
    "    if not filtered_df.empty:\n",
    "        sampled_df = filtered_df.sample(n=min(k, len(filtered_df)), random_state=random_state)\n",
    "        return sampled_df[attribute].tolist()\n",
    "    else:\n",
    "        return []\n",
    "\n",
    "def filter_attribute_diff_domain(df, row, model, attribute=\"subj\", k=10, random_state=101):\n",
    "    \"\"\"Filters attribute based on specific criteria. \"\"\"\n",
    "    # Combine conditions to filter df in one step\n",
    "    conditions = (\n",
    "        (df[attribute] != row[attribute]) &\n",
    "        (df[\"prop\"] != row[\"prop\"]) &\n",
    "        (df[\"len\"].apply(lambda x: x == len(model.reader_tokenizer.tokenize(row[attribute]))))\n",
    "    )\n",
    "\n",
    "    filtered_df = df[conditions]\n",
    "\n",
    "    if not filtered_df.empty:\n",
    "        sampled_df = filtered_df.sample(n=min(k, len(filtered_df)), random_state=random_state)\n",
    "        return sampled_df[attribute].tolist()\n",
    "    else:\n",
    "        return []"
   ]
  },
  {
   "cell_type": "code",
   "execution_count": 16,
   "metadata": {},
   "outputs": [],
   "source": [
    "def generated_is_matched(answer, generated):\n",
    "    return generated and (answer == generated or generated in answer or answer in generated)\n",
    "\n",
    "\n",
    "def batchify(lst, batch_size):\n",
    "    for i in range(0, len(lst), batch_size):\n",
    "        yield lst[i:i + batch_size]\n",
    "\n",
    "\n",
    "def attribute_status(text, attr1, attr2):\n",
    "    status = [False, False]\n",
    "    if attr1 in text:\n",
    "        _text = copy.deepcopy(text)\n",
    "        _text = re.sub(fr'\\b{re.escape(attr1)}\\b', f\"[{attr1.upper()}_REPLACED]\", _text)\n",
    "        \n",
    "        status[0] = True\n",
    "        if attr2 in _text:\n",
    "            status[1] = True\n",
    "        else:\n",
    "            status[1] = False\n",
    "    else:\n",
    "        status = [False, False]\n",
    "\n",
    "    return all(status)\n",
    "\n",
    "def pick_the_candidates(df, batch_size=5):\n",
    "    data = []\n",
    "    for i, row in tqdm(df.iterrows(), total=len(df)):\n",
    "        query = row[\"query\"]\n",
    "        answers = row[\"answers\"]\n",
    "\n",
    "        question = row[\"question\"]\n",
    "        subj = row[\"subj\"]\n",
    "        prop = row[\"prop\"]\n",
    "        obj = row[\"obj\"]\n",
    "\n",
    "\n",
    "        subj_cf_same_domain = filter_attribute_same_domain(subj_df, row, model, attribute=\"subj\")\n",
    "        obj_cf_same_domain = filter_attribute_same_domain(obj_df, row, model, attribute=\"obj\")\n",
    "\n",
    "        subj_cf_diff_domain = filter_attribute_diff_domain(subj_df, row, model, attribute=\"subj\")\n",
    "        obj_cf_diff_domain = filter_attribute_diff_domain(obj_df, row, model, attribute=\"obj\")\n",
    "\n",
    "        if not len(subj_cf_same_domain) > 1 or not len(obj_cf_same_domain) > 1:\n",
    "            continue\n",
    "\n",
    "\n",
    "        p = row[\"passages\"][0]\n",
    "        subj_status = attribute_status(p[\"text\"], subj, obj)\n",
    "        obj_status = attribute_status(p[\"text\"], obj, subj)\n",
    "\n",
    "        if not subj_status or not obj_status:\n",
    "            continue\n",
    "\n",
    "        prompts_nocontext = [{\"query\": query, \"passages\": [{\"title\": \"\", \"text\": \"\"}], \"answers\": answers}]\n",
    "        prompt_split = len(prompts_nocontext)\n",
    "        prompts_context = [{\"query\": query, \"passages\": [{\"title\": \" \", \"text\": p[\"text\"]}], \"answers\": answers}]\n",
    "\n",
    "        g = predict_token(model, prompts_nocontext + prompts_context, n_context=1).predicted_text\n",
    "        for i in range(prompt_split):\n",
    "            gen_nocontext_matched = generated_is_matched(answers[0], g[i])\n",
    "            gen_context_matched = generated_is_matched(answers[0], g[i + prompt_split])\n",
    "\n",
    "            data.append({\n",
    "                \"question\": question,\n",
    "                \"answers\": answers,\n",
    "                \"passages\": [p],\n",
    "                \"subj\": subj,\n",
    "                \"prop\": prop,\n",
    "                \"obj\": obj,\n",
    "                \"query\": query,\n",
    "                \"gen_nocontext\": g[i],\n",
    "                \"gen_context\": g[i + prompt_split],\n",
    "                \"gen_nocontext_matched\": gen_nocontext_matched,\n",
    "                \"gen_context_matched\": gen_context_matched,\n",
    "                \"matched\": gen_nocontext_matched and gen_context_matched,\n",
    "                # \"prop_cf\": [context_templates[cf].format(subj=subj, obj=obj) for cf in relation_counterfactuals[prop]],\n",
    "                \"prop_cf\": [],\n",
    "                \"subj_cf\": subj_cf_same_domain,\n",
    "                \"obj_cf\": obj_cf_same_domain,\n",
    "                \"subj_cf_diff\": subj_cf_diff_domain,\n",
    "                \"obj_cf_diff\": obj_cf_diff_domain,\n",
    "            })\n",
    "            \n",
    "            break\n",
    "\n",
    "        break\n",
    "    \n",
    "    return pd.DataFrame(data)"
   ]
  },
  {
   "cell_type": "code",
   "execution_count": 17,
   "metadata": {},
   "outputs": [
    {
     "name": "stdout",
     "output_type": "stream",
     "text": [
      "Number of data: 42125\n"
     ]
    },
    {
     "name": "stderr",
     "output_type": "stream",
     "text": [
      "  0%|          | 0/42125 [00:00<?, ?it/s]/mimer/NOBACKUP/groups/snic2022-22-1003/APP/rag-memory-interplay/venv/lib/python3.9/site-packages/transformers/modeling_utils.py:1126: FutureWarning: The `device` argument is deprecated and will be removed in v5 of Transformers.\n",
      "  warnings.warn(\n",
      "/mimer/NOBACKUP/groups/snic2022-22-1003/APP/rag-memory-interplay/venv/lib/python3.9/site-packages/transformers/modeling_utils.py:1080: FutureWarning: The `device` argument is deprecated and will be removed in v5 of Transformers.\n",
      "  warnings.warn(\n",
      "  0%|          | 0/42125 [00:05<?, ?it/s]"
     ]
    },
    {
     "name": "stdout",
     "output_type": "stream",
     "text": [
      "Number of data: 1\n"
     ]
    },
    {
     "name": "stderr",
     "output_type": "stream",
     "text": [
      "\n"
     ]
    },
    {
     "data": {
      "text/html": [
       "<div>\n",
       "<style scoped>\n",
       "    .dataframe tbody tr th:only-of-type {\n",
       "        vertical-align: middle;\n",
       "    }\n",
       "\n",
       "    .dataframe tbody tr th {\n",
       "        vertical-align: top;\n",
       "    }\n",
       "\n",
       "    .dataframe thead th {\n",
       "        text-align: right;\n",
       "    }\n",
       "</style>\n",
       "<table border=\"1\" class=\"dataframe\">\n",
       "  <thead>\n",
       "    <tr style=\"text-align: right;\">\n",
       "      <th></th>\n",
       "      <th>question</th>\n",
       "      <th>answers</th>\n",
       "      <th>passages</th>\n",
       "      <th>subj</th>\n",
       "      <th>prop</th>\n",
       "      <th>obj</th>\n",
       "      <th>query</th>\n",
       "      <th>gen_nocontext</th>\n",
       "      <th>gen_context</th>\n",
       "      <th>gen_nocontext_matched</th>\n",
       "      <th>gen_context_matched</th>\n",
       "      <th>matched</th>\n",
       "      <th>prop_cf</th>\n",
       "      <th>subj_cf</th>\n",
       "      <th>obj_cf</th>\n",
       "      <th>subj_cf_diff</th>\n",
       "      <th>obj_cf_diff</th>\n",
       "    </tr>\n",
       "  </thead>\n",
       "  <tbody>\n",
       "    <tr>\n",
       "      <th>0</th>\n",
       "      <td>Where was Michael Jack born?</td>\n",
       "      <td>[Folkestone]</td>\n",
       "      <td>[{'title': '', 'text': 'According to records, ...</td>\n",
       "      <td>Michael Jack</td>\n",
       "      <td>P19</td>\n",
       "      <td>Folkestone</td>\n",
       "      <td>question: Where was Michael Jack born? answer:...</td>\n",
       "      <td>New York City, NY</td>\n",
       "      <td>Folkestone</td>\n",
       "      <td>False</td>\n",
       "      <td>True</td>\n",
       "      <td>False</td>\n",
       "      <td>[]</td>\n",
       "      <td>[Money Johnson, Bob Rush, Jeff Powell, Greg Da...</td>\n",
       "      <td>[Arcachon, Tampere, Velletri, Tavistock, Watfo...</td>\n",
       "      <td>[Sometimes?, Brandon Barnes, Beautiful Tonight...</td>\n",
       "      <td>[Fisz, The Feeling, Asian Man Records, Jessica...</td>\n",
       "    </tr>\n",
       "  </tbody>\n",
       "</table>\n",
       "</div>"
      ],
      "text/plain": [
       "                       question       answers  \\\n",
       "0  Where was Michael Jack born?  [Folkestone]   \n",
       "\n",
       "                                            passages          subj prop  \\\n",
       "0  [{'title': '', 'text': 'According to records, ...  Michael Jack  P19   \n",
       "\n",
       "          obj                                              query  \\\n",
       "0  Folkestone  question: Where was Michael Jack born? answer:...   \n",
       "\n",
       "       gen_nocontext gen_context  gen_nocontext_matched  gen_context_matched  \\\n",
       "0  New York City, NY  Folkestone                  False                 True   \n",
       "\n",
       "   matched prop_cf                                            subj_cf  \\\n",
       "0    False      []  [Money Johnson, Bob Rush, Jeff Powell, Greg Da...   \n",
       "\n",
       "                                              obj_cf  \\\n",
       "0  [Arcachon, Tampere, Velletri, Tavistock, Watfo...   \n",
       "\n",
       "                                        subj_cf_diff  \\\n",
       "0  [Sometimes?, Brandon Barnes, Beautiful Tonight...   \n",
       "\n",
       "                                         obj_cf_diff  \n",
       "0  [Fisz, The Feeling, Asian Man Records, Jessica...  "
      ]
     },
     "execution_count": 17,
     "metadata": {},
     "output_type": "execute_result"
    }
   ],
   "source": [
    "print(f\"Number of data: {len(df)}\")\n",
    "matched_df = pick_the_candidates(df)\n",
    "print(f\"Number of data: {len(matched_df)}\")\n",
    "matched_df.head()"
   ]
  },
  {
   "cell_type": "code",
   "execution_count": 18,
   "metadata": {},
   "outputs": [],
   "source": [
    "def save_data(df, save_dir, kind, groupby=\"prop\"):\n",
    "    save_dir = f\"{save_dir}-{kind}\"\n",
    "    os.makedirs(save_dir, exist_ok=True)\n",
    "    with open(f\"{save_dir}-data.jsonl\", \"w\", encoding=\"utf-8\") as fj:\n",
    "        for index, row in df.iterrows():\n",
    "            fj.write(json.dumps(row.to_dict()) + \"\\n\")\n",
    "\n",
    "    props = df[groupby].unique()\n",
    "    for prop in props:\n",
    "        prop_code = prop.replace(\" \", '_')\n",
    "        prop_df = df[df[groupby] == prop]\n",
    "\n",
    "        with open(f\"{save_dir}/{prop_code}.jsonl\", \"w\", encoding=\"utf-8\") as fj:\n",
    "            for index, row in prop_df.iterrows():\n",
    "                fj.write(json.dumps(row.to_dict()) + \"\\n\")"
   ]
  },
  {
   "cell_type": "code",
   "execution_count": 19,
   "metadata": {},
   "outputs": [
    {
     "data": {
      "text/plain": [
       "'../data/syn/peq/data/matched'"
      ]
     },
     "execution_count": 19,
     "metadata": {},
     "output_type": "execute_result"
    }
   ],
   "source": [
    "SAVE_DIR = \"../data/syn/peq/data/matched\"\n",
    "SAVE_DIR"
   ]
  },
  {
   "cell_type": "code",
   "execution_count": 20,
   "metadata": {},
   "outputs": [
    {
     "name": "stdout",
     "output_type": "stream",
     "text": [
      "Collected 0/1\n",
      "Collected 0/1\n",
      "Collected 0/1\n",
      "Collected 1/1\n"
     ]
    }
   ],
   "source": [
    "save_data(matched_df, SAVE_DIR, \"all\")\n",
    "\n",
    "\n",
    "df_both = matched_df[matched_df[\"matched\"] == True]\n",
    "print(f\"Collected {len(df_both)}/{len(matched_df)}\")\n",
    "save_data(df_both, SAVE_DIR, \"both\")\n",
    "\n",
    "df_both_first = matched_df[matched_df[\"matched\"] == True].groupby('question').first().reset_index()\n",
    "print(f\"Collected {len(df_both_first)}/{len(matched_df)}\")\n",
    "save_data(df_both_first, SAVE_DIR, \"both-first\")\n",
    "\n",
    "df_gen_nocontext = matched_df[matched_df[\"gen_nocontext_matched\"] == True]\n",
    "print(f\"Collected {len(df_gen_nocontext)}/{len(matched_df)}\")\n",
    "save_data(df_gen_nocontext, SAVE_DIR, \"gen-nocontext\")\n",
    "\n",
    "df_gen_context = matched_df[matched_df[\"gen_context_matched\"] == True]\n",
    "print(f\"Collected {len(df_gen_context)}/{len(matched_df)}\")\n",
    "save_data(df_gen_context, SAVE_DIR, \"gen-context\")"
   ]
  },
  {
   "cell_type": "code",
   "execution_count": null,
   "metadata": {},
   "outputs": [],
   "source": []
  }
 ],
 "metadata": {
  "kernelspec": {
   "display_name": "venv",
   "language": "python",
   "name": "python3"
  },
  "language_info": {
   "codemirror_mode": {
    "name": "ipython",
    "version": 3
   },
   "file_extension": ".py",
   "mimetype": "text/x-python",
   "name": "python",
   "nbconvert_exporter": "python",
   "pygments_lexer": "ipython3",
   "version": "3.9.5"
  },
  "orig_nbformat": 4,
  "vscode": {
   "interpreter": {
    "hash": "c924a3b366f2428512e8119f66ee34e750cd77838d106b793d81686518d5af6d"
   }
  }
 },
 "nbformat": 4,
 "nbformat_minor": 2
}
