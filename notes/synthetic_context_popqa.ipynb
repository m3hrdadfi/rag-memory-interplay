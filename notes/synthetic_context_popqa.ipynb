{
 "cells": [
  {
   "cell_type": "code",
   "execution_count": 1,
   "metadata": {},
   "outputs": [],
   "source": [
    "import sys\n",
    "\n",
    "if \"../src\" not in sys.path:\n",
    "    sys.path.insert(0, \"../src\")"
   ]
  },
  {
   "cell_type": "code",
   "execution_count": 2,
   "metadata": {},
   "outputs": [],
   "source": [
    "import os\n",
    "import json\n",
    "import copy\n",
    "import pprint\n",
    "import ast\n",
    "import re\n",
    "from tqdm import tqdm\n",
    "\n",
    "import numpy as np\n",
    "import pandas as pd\n",
    "import matplotlib.pyplot as plt\n",
    "import seaborn as sns\n",
    "from IPython import display\n",
    "\n",
    "import torch\n",
    "\n",
    "from utils import read_json_file"
   ]
  },
  {
   "cell_type": "code",
   "execution_count": 3,
   "metadata": {},
   "outputs": [
    {
     "name": "stderr",
     "output_type": "stream",
     "text": [
      "[nltk_data] Downloading package punkt to\n",
      "[nltk_data]     /cephyr/users/mehrdadf/Alvis/nltk_data...\n",
      "[nltk_data]   Package punkt is already up-to-date!\n"
     ]
    }
   ],
   "source": [
    "import nltk\n",
    "nltk.download('punkt')\n",
    "from nltk.tokenize import word_tokenize"
   ]
  },
  {
   "cell_type": "code",
   "execution_count": 4,
   "metadata": {},
   "outputs": [
    {
     "name": "stderr",
     "output_type": "stream",
     "text": [
      "/mimer/NOBACKUP/groups/snic2022-22-1003/APP/rag-memory-interplay/venv/lib/python3.9/site-packages/transformers/utils/hub.py:127: FutureWarning: Using `TRANSFORMERS_CACHE` is deprecated and will be removed in v5 of Transformers. Use `HF_HOME` instead.\n",
      "  warnings.warn(\n"
     ]
    }
   ],
   "source": [
    "from experiments.utils import load_atlas\n",
    "from experiments.tools import predict_token"
   ]
  },
  {
   "cell_type": "code",
   "execution_count": 5,
   "metadata": {},
   "outputs": [
    {
     "name": "stderr",
     "output_type": "stream",
     "text": [
      "/mimer/NOBACKUP/groups/snic2022-22-1003/APP/rag-memory-interplay/venv/lib/python3.9/site-packages/transformers/tokenization_utils_base.py:1601: FutureWarning: `clean_up_tokenization_spaces` was not set. It will be set to `True` by default. This behavior will be depracted in transformers v4.45, and will be then set to `False` by default. For more details check this issue: https://github.com/huggingface/transformers/issues/31884\n",
      "  warnings.warn(\n",
      "Some weights of the model checkpoint at facebook/contriever were not used when initializing Contriever: ['pooler.dense.bias', 'pooler.dense.weight']\n",
      "- This IS expected if you are initializing Contriever from the checkpoint of a model trained on another task or with another architecture (e.g. initializing a BertForSequenceClassification model from a BertForPreTraining model).\n",
      "- This IS NOT expected if you are initializing Contriever from the checkpoint of a model that you expect to be exactly identical (initializing a BertForSequenceClassification model from a BertForSequenceClassification model).\n"
     ]
    },
    {
     "data": {
      "text/plain": [
       "atlas.atlas.Atlas"
      ]
     },
     "execution_count": 5,
     "metadata": {},
     "output_type": "execute_result"
    }
   ],
   "source": [
    "os.environ[\"WANDB_CACHE_DIR\"] = f\"../../caches/wandb\"\n",
    "os.environ[\"TRANSFORMERS_CACHE\"]= f\"../../.cache/huggingface/transformers\"\n",
    "os.environ[\"HF_DATASETS_CACHE\"] = f\"../../.cache/huggingface/datasets\"\n",
    "\n",
    "SIZE = \"base\"  # \"base\", \"large\"\n",
    "QA_PROMPT_FORMAT = \"question: {question} answer: <extra_id_0>\"\n",
    "\n",
    "reader_model_type = f\"google/t5-{SIZE}-lm-adapt\"\n",
    "model_path = f\"../data/atlas/models/atlas_nq/{SIZE}\"\n",
    "model, opt = load_atlas(reader_model_type, model_path, n_context=1, qa_prompt_format=\"question: {question} answer: <extra_id_0>\")\n",
    "type(model)\n"
   ]
  },
  {
   "cell_type": "code",
   "execution_count": 6,
   "metadata": {},
   "outputs": [],
   "source": [
    "context_templates = {\n",
    "    \"occupation\": \"The occupation of {subj} is {obj}.\",\n",
    "    \"place of birth\": \"{subj} was born in the city of {obj}.\",\n",
    "    \"genre\": \"The work titled {subj} belongs to the {obj} genre.\",\n",
    "    \"father\": \"{obj} is the father of {subj}.\",\n",
    "    \"country\": \"The {subj} is located in {obj}.\",\n",
    "    \"producer\": \"{obj} was the producer of the work {subj}.\",\n",
    "    \"director\": \"{obj} was the director of the film {subj}.\",\n",
    "    \"capital of\": \"{subj} is the capital of {obj}.\",\n",
    "    \"capital\": \"The capital of {subj} is {obj}.\",\n",
    "    \"screenwriter\": \"{obj} was the screenwriter for the film {subj}.\",\n",
    "    \"composer\": \"{obj} was the composer of the musical work {subj}.\",\n",
    "    \"color\": \"The color of {subj} is {obj}.\",\n",
    "    \"religion\": \"{subj} practices the {obj} religion.\",\n",
    "    \"sport\": \"The {subj} team plays the sport of {obj}.\",\n",
    "    \"author\": \"{obj} is the author of the book titled {subj}.\",\n",
    "    \"mother\": \"{obj} is the mother of {subj}.\",\n",
    "}\n"
   ]
  },
  {
   "cell_type": "code",
   "execution_count": 7,
   "metadata": {},
   "outputs": [
    {
     "name": "stdout",
     "output_type": "stream",
     "text": [
      "We have #14267 data\n",
      "We have #14221 data\n"
     ]
    },
    {
     "data": {
      "text/html": [
       "<div>\n",
       "<style scoped>\n",
       "    .dataframe tbody tr th:only-of-type {\n",
       "        vertical-align: middle;\n",
       "    }\n",
       "\n",
       "    .dataframe tbody tr th {\n",
       "        vertical-align: top;\n",
       "    }\n",
       "\n",
       "    .dataframe thead th {\n",
       "        text-align: right;\n",
       "    }\n",
       "</style>\n",
       "<table border=\"1\" class=\"dataframe\">\n",
       "  <thead>\n",
       "    <tr style=\"text-align: right;\">\n",
       "      <th></th>\n",
       "      <th>question</th>\n",
       "      <th>answers</th>\n",
       "      <th>query</th>\n",
       "      <th>subj</th>\n",
       "      <th>prop</th>\n",
       "      <th>obj</th>\n",
       "      <th>views</th>\n",
       "      <th>metadata</th>\n",
       "      <th>passages</th>\n",
       "    </tr>\n",
       "  </thead>\n",
       "  <tbody>\n",
       "    <tr>\n",
       "      <th>0</th>\n",
       "      <td>What is George Rankin's occupation?</td>\n",
       "      <td>[politician]</td>\n",
       "      <td>question: What is George Rankin's occupation? ...</td>\n",
       "      <td>George Rankin</td>\n",
       "      <td>occupation</td>\n",
       "      <td>politician</td>\n",
       "      <td>{'s_pop': '142', 'o_pop': '25692'}</td>\n",
       "      <td>[]</td>\n",
       "      <td>[{'title': '', 'text': 'The occupation of Geor...</td>\n",
       "    </tr>\n",
       "    <tr>\n",
       "      <th>1</th>\n",
       "      <td>What is John Mayne's occupation?</td>\n",
       "      <td>[journalist]</td>\n",
       "      <td>question: What is John Mayne's occupation? ans...</td>\n",
       "      <td>John Mayne</td>\n",
       "      <td>occupation</td>\n",
       "      <td>journalist</td>\n",
       "      <td>{'s_pop': '236', 'o_pop': '24952'}</td>\n",
       "      <td>[]</td>\n",
       "      <td>[{'title': '', 'text': 'The occupation of John...</td>\n",
       "    </tr>\n",
       "  </tbody>\n",
       "</table>\n",
       "</div>"
      ],
      "text/plain": [
       "                              question       answers  \\\n",
       "0  What is George Rankin's occupation?  [politician]   \n",
       "1     What is John Mayne's occupation?  [journalist]   \n",
       "\n",
       "                                               query           subj  \\\n",
       "0  question: What is George Rankin's occupation? ...  George Rankin   \n",
       "1  question: What is John Mayne's occupation? ans...     John Mayne   \n",
       "\n",
       "         prop         obj                               views metadata  \\\n",
       "0  occupation  politician  {'s_pop': '142', 'o_pop': '25692'}       []   \n",
       "1  occupation  journalist  {'s_pop': '236', 'o_pop': '24952'}       []   \n",
       "\n",
       "                                            passages  \n",
       "0  [{'title': '', 'text': 'The occupation of Geor...  \n",
       "1  [{'title': '', 'text': 'The occupation of John...  "
      ]
     },
     "execution_count": 7,
     "metadata": {},
     "output_type": "execute_result"
    }
   ],
   "source": [
    "data = []\n",
    "\n",
    "for row in read_json_file(\"../data/atlas/popqa_data/test.jsonl\", jsonl=True):\n",
    "    data.append({\n",
    "        \"question\": row[\"question\"],\n",
    "        \"answers\": [row[\"triplet\"][\"obj\"]],\n",
    "        \"query\": f\"question: {row['question']} answer: <extra_id_0>\",\n",
    "        \"subj\": row[\"triplet\"][\"subj\"],\n",
    "        \"prop\": row[\"triplet\"][\"prop\"],\n",
    "        \"obj\": row[\"triplet\"][\"obj\"],\n",
    "        \"views\": row[\"views\"],\n",
    "        \"metadata\": [],\n",
    "        \"passages\": [{\"title\": \"\", \"text\": context_templates.get(row[\"triplet\"][\"prop\"], \"\").format(subj=row[\"triplet\"][\"subj\"], obj=row[\"triplet\"][\"obj\"])}] \n",
    "        if context_templates.get(row[\"triplet\"][\"prop\"], None) else None\n",
    "    })\n",
    "\n",
    "    # break\n",
    "\n",
    "df = pd.DataFrame(data)\n",
    "print(f\"We have #{len(df)} data\")\n",
    "df = df.dropna()\n",
    "df = df.drop_duplicates(subset=[\"query\", \"subj\", \"obj\"], keep=\"first\").reset_index(drop=True)\n",
    "print(f\"We have #{len(df)} data\")\n",
    "df.head(2)"
   ]
  },
  {
   "cell_type": "code",
   "execution_count": 8,
   "metadata": {},
   "outputs": [
    {
     "name": "stdout",
     "output_type": "stream",
     "text": [
      "occupation : What is John Mayne's occupation?\n",
      "place of birth : In what city was Antoine Richard born?\n",
      "genre : What genre is Full Force?\n",
      "father : Who is the father of Nero?\n",
      "country : In what country is Snapchat?\n",
      "producer : Who was the producer of Maari?\n",
      "director : Who was the director of Another Country?\n",
      "capital of : What is Howard the capital of?\n",
      "screenwriter : Who was the screenwriter for The Circus?\n",
      "composer : Who was the composer of Mexico?\n",
      "color : What color is AFC Bournemouth?\n",
      "religion : What is the religion of Kenneth Steiner?\n",
      "sport : What sport does Armand Raymond play?\n",
      "author : Who is the author of All Over?\n",
      "mother : Who is the mother of Horae?\n",
      "capital : What is the capital of Czechoslovakia?\n"
     ]
    }
   ],
   "source": [
    "for prop in df[\"prop\"].unique():\n",
    "    print(prop, \":\", df[df[\"prop\"] == prop].iloc[1][\"question\"])"
   ]
  },
  {
   "cell_type": "code",
   "execution_count": 9,
   "metadata": {},
   "outputs": [
    {
     "data": {
      "text/html": [
       "<div>\n",
       "<style scoped>\n",
       "    .dataframe tbody tr th:only-of-type {\n",
       "        vertical-align: middle;\n",
       "    }\n",
       "\n",
       "    .dataframe tbody tr th {\n",
       "        vertical-align: top;\n",
       "    }\n",
       "\n",
       "    .dataframe thead th {\n",
       "        text-align: right;\n",
       "    }\n",
       "</style>\n",
       "<table border=\"1\" class=\"dataframe\">\n",
       "  <thead>\n",
       "    <tr style=\"text-align: right;\">\n",
       "      <th></th>\n",
       "      <th>subj</th>\n",
       "      <th>prop</th>\n",
       "      <th>tokens</th>\n",
       "      <th>len</th>\n",
       "    </tr>\n",
       "  </thead>\n",
       "  <tbody>\n",
       "    <tr>\n",
       "      <th>0</th>\n",
       "      <td>George Rankin</td>\n",
       "      <td>occupation</td>\n",
       "      <td>[▁George, ▁, Rank, in]</td>\n",
       "      <td>4</td>\n",
       "    </tr>\n",
       "    <tr>\n",
       "      <th>1</th>\n",
       "      <td>John Mayne</td>\n",
       "      <td>occupation</td>\n",
       "      <td>[▁John, ▁May, n, e]</td>\n",
       "      <td>4</td>\n",
       "    </tr>\n",
       "    <tr>\n",
       "      <th>2</th>\n",
       "      <td>Henry Feilden</td>\n",
       "      <td>occupation</td>\n",
       "      <td>[▁Henry, ▁Fe, il, den]</td>\n",
       "      <td>4</td>\n",
       "    </tr>\n",
       "    <tr>\n",
       "      <th>3</th>\n",
       "      <td>Kathy Saltzman</td>\n",
       "      <td>occupation</td>\n",
       "      <td>[▁Kathy, ▁Salt, z, man]</td>\n",
       "      <td>4</td>\n",
       "    </tr>\n",
       "    <tr>\n",
       "      <th>4</th>\n",
       "      <td>Eleanor Davis</td>\n",
       "      <td>occupation</td>\n",
       "      <td>[▁Ele, an, or, ▁Davis]</td>\n",
       "      <td>4</td>\n",
       "    </tr>\n",
       "  </tbody>\n",
       "</table>\n",
       "</div>"
      ],
      "text/plain": [
       "             subj        prop                   tokens  len\n",
       "0   George Rankin  occupation   [▁George, ▁, Rank, in]    4\n",
       "1      John Mayne  occupation      [▁John, ▁May, n, e]    4\n",
       "2   Henry Feilden  occupation   [▁Henry, ▁Fe, il, den]    4\n",
       "3  Kathy Saltzman  occupation  [▁Kathy, ▁Salt, z, man]    4\n",
       "4   Eleanor Davis  occupation   [▁Ele, an, or, ▁Davis]    4"
      ]
     },
     "execution_count": 9,
     "metadata": {},
     "output_type": "execute_result"
    }
   ],
   "source": [
    "subj_df = pd.DataFrame([{\"subj\": row[\"subj\"], \"prop\": row[\"prop\"], \"tokens\": model.reader_tokenizer.tokenize(row[\"subj\"]), \"len\": len(model.reader_tokenizer.tokenize(row[\"subj\"]))} for i, row in df.iterrows()])\n",
    "subj_df = subj_df.drop_duplicates(subset=[\"subj\", \"prop\"])\n",
    "subj_df = subj_df.reset_index(drop=True)\n",
    "subj_df.head()"
   ]
  },
  {
   "cell_type": "code",
   "execution_count": 10,
   "metadata": {},
   "outputs": [
    {
     "data": {
      "text/html": [
       "<div>\n",
       "<style scoped>\n",
       "    .dataframe tbody tr th:only-of-type {\n",
       "        vertical-align: middle;\n",
       "    }\n",
       "\n",
       "    .dataframe tbody tr th {\n",
       "        vertical-align: top;\n",
       "    }\n",
       "\n",
       "    .dataframe thead th {\n",
       "        text-align: right;\n",
       "    }\n",
       "</style>\n",
       "<table border=\"1\" class=\"dataframe\">\n",
       "  <thead>\n",
       "    <tr style=\"text-align: right;\">\n",
       "      <th></th>\n",
       "      <th>obj</th>\n",
       "      <th>prop</th>\n",
       "      <th>tokens</th>\n",
       "      <th>len</th>\n",
       "    </tr>\n",
       "  </thead>\n",
       "  <tbody>\n",
       "    <tr>\n",
       "      <th>0</th>\n",
       "      <td>politician</td>\n",
       "      <td>occupation</td>\n",
       "      <td>[▁politician]</td>\n",
       "      <td>1</td>\n",
       "    </tr>\n",
       "    <tr>\n",
       "      <th>1</th>\n",
       "      <td>journalist</td>\n",
       "      <td>occupation</td>\n",
       "      <td>[▁journalist]</td>\n",
       "      <td>1</td>\n",
       "    </tr>\n",
       "    <tr>\n",
       "      <th>2</th>\n",
       "      <td>cartoonist</td>\n",
       "      <td>occupation</td>\n",
       "      <td>[▁cartoon, ist]</td>\n",
       "      <td>2</td>\n",
       "    </tr>\n",
       "    <tr>\n",
       "      <th>3</th>\n",
       "      <td>mathematician</td>\n",
       "      <td>occupation</td>\n",
       "      <td>[▁math, e, m, a, tician]</td>\n",
       "      <td>5</td>\n",
       "    </tr>\n",
       "    <tr>\n",
       "      <th>4</th>\n",
       "      <td>talent manager</td>\n",
       "      <td>occupation</td>\n",
       "      <td>[▁talent, ▁manager]</td>\n",
       "      <td>2</td>\n",
       "    </tr>\n",
       "  </tbody>\n",
       "</table>\n",
       "</div>"
      ],
      "text/plain": [
       "              obj        prop                    tokens  len\n",
       "0      politician  occupation             [▁politician]    1\n",
       "1      journalist  occupation             [▁journalist]    1\n",
       "2      cartoonist  occupation           [▁cartoon, ist]    2\n",
       "3   mathematician  occupation  [▁math, e, m, a, tician]    5\n",
       "4  talent manager  occupation       [▁talent, ▁manager]    2"
      ]
     },
     "execution_count": 10,
     "metadata": {},
     "output_type": "execute_result"
    }
   ],
   "source": [
    "obj_df = pd.DataFrame([{\"obj\": row[\"obj\"], \"prop\": row[\"prop\"], \"tokens\": model.reader_tokenizer.tokenize(row[\"obj\"]), \"len\": len(model.reader_tokenizer.tokenize(row[\"obj\"]))} for i, row in df.iterrows()])\n",
    "obj_df = obj_df.drop_duplicates(subset=[\"obj\", \"prop\"])\n",
    "obj_df = obj_df.reset_index(drop=True)\n",
    "obj_df.head()"
   ]
  },
  {
   "cell_type": "code",
   "execution_count": 11,
   "metadata": {},
   "outputs": [
    {
     "data": {
      "text/html": [
       "<div>\n",
       "<style scoped>\n",
       "    .dataframe tbody tr th:only-of-type {\n",
       "        vertical-align: middle;\n",
       "    }\n",
       "\n",
       "    .dataframe tbody tr th {\n",
       "        vertical-align: top;\n",
       "    }\n",
       "\n",
       "    .dataframe thead th {\n",
       "        text-align: right;\n",
       "    }\n",
       "</style>\n",
       "<table border=\"1\" class=\"dataframe\">\n",
       "  <thead>\n",
       "    <tr style=\"text-align: right;\">\n",
       "      <th></th>\n",
       "      <th>prop</th>\n",
       "      <th>tokens</th>\n",
       "      <th>len</th>\n",
       "    </tr>\n",
       "  </thead>\n",
       "  <tbody>\n",
       "    <tr>\n",
       "      <th>0</th>\n",
       "      <td>occupation</td>\n",
       "      <td>[▁occupation]</td>\n",
       "      <td>1</td>\n",
       "    </tr>\n",
       "    <tr>\n",
       "      <th>1</th>\n",
       "      <td>place of birth</td>\n",
       "      <td>[▁place, ▁of, ▁birth]</td>\n",
       "      <td>3</td>\n",
       "    </tr>\n",
       "    <tr>\n",
       "      <th>2</th>\n",
       "      <td>genre</td>\n",
       "      <td>[▁genre]</td>\n",
       "      <td>1</td>\n",
       "    </tr>\n",
       "    <tr>\n",
       "      <th>3</th>\n",
       "      <td>father</td>\n",
       "      <td>[▁father]</td>\n",
       "      <td>1</td>\n",
       "    </tr>\n",
       "    <tr>\n",
       "      <th>4</th>\n",
       "      <td>country</td>\n",
       "      <td>[▁country]</td>\n",
       "      <td>1</td>\n",
       "    </tr>\n",
       "  </tbody>\n",
       "</table>\n",
       "</div>"
      ],
      "text/plain": [
       "             prop                 tokens  len\n",
       "0      occupation          [▁occupation]    1\n",
       "1  place of birth  [▁place, ▁of, ▁birth]    3\n",
       "2           genre               [▁genre]    1\n",
       "3          father              [▁father]    1\n",
       "4         country             [▁country]    1"
      ]
     },
     "execution_count": 11,
     "metadata": {},
     "output_type": "execute_result"
    }
   ],
   "source": [
    "prop_df = pd.DataFrame([{\"prop\": row[\"prop\"], \"tokens\": model.reader_tokenizer.tokenize(row[\"prop\"]), \"len\": len(model.reader_tokenizer.tokenize(row[\"prop\"]))} for i, row in df.iterrows()])\n",
    "prop_df = prop_df.drop_duplicates(subset=[\"prop\"])\n",
    "prop_df = prop_df.reset_index(drop=True)\n",
    "prop_df.head()"
   ]
  },
  {
   "cell_type": "code",
   "execution_count": 12,
   "metadata": {},
   "outputs": [
    {
     "data": {
      "image/png": "[encoded data removed]",
      "text/plain": [
       "<Figure size 1200x800 with 1 Axes>"
      ]
     },
     "metadata": {},
     "output_type": "display_data"
    }
   ],
   "source": [
    "prop_counts = df['prop'].value_counts()\n",
    "plt.figure(figsize=(12, 8)) \n",
    "prop_counts.plot(kind='bar')\n",
    "plt.title('Distribution of \"prop\" in the Dataset')\n",
    "plt.xlabel('Prop')\n",
    "plt.ylabel('Frequency')\n",
    "plt.xticks(rotation=90)  # Rotates the x-axis labels for better readability\n",
    "plt.show()"
   ]
  },
  {
   "cell_type": "code",
   "execution_count": 13,
   "metadata": {},
   "outputs": [
    {
     "data": {
      "text/plain": [
       "14221"
      ]
     },
     "execution_count": 13,
     "metadata": {},
     "output_type": "execute_result"
    }
   ],
   "source": [
    "prop_counts.sum()"
   ]
  },
  {
   "cell_type": "code",
   "execution_count": 14,
   "metadata": {},
   "outputs": [
    {
     "data": {
      "text/plain": [
       "{'question': \"What is John Mayne's occupation?\",\n",
       " 'answers': ['journalist'],\n",
       " 'query': \"question: What is John Mayne's occupation? answer: <extra_id_0>\",\n",
       " 'subj': 'John Mayne',\n",
       " 'prop': 'occupation',\n",
       " 'obj': 'journalist',\n",
       " 'views': {'s_pop': '236', 'o_pop': '24952'},\n",
       " 'metadata': [],\n",
       " 'passages': [{'title': '',\n",
       "   'text': 'The occupation of John Mayne is journalist.'}]}"
      ]
     },
     "execution_count": 14,
     "metadata": {},
     "output_type": "execute_result"
    }
   ],
   "source": [
    "df.iloc[1].to_dict()"
   ]
  },
  {
   "cell_type": "code",
   "execution_count": 15,
   "metadata": {},
   "outputs": [],
   "source": [
    "def filter_attribute_same_domain(df, row, model, attribute=\"subj\", k=10, random_state=101):\n",
    "    \"\"\"Filters attribute based on specific criteria.\"\"\"\n",
    "    # Combine conditions to filter df in one step\n",
    "    conditions = (\n",
    "        (df[attribute] != row[attribute]) &\n",
    "        (df[\"prop\"] == row[\"prop\"]) &\n",
    "        (df[\"len\"].apply(lambda x: x == len(model.reader_tokenizer.tokenize(row[attribute]))))\n",
    "    )\n",
    "\n",
    "    filtered_df = df[conditions]\n",
    "\n",
    "    if not filtered_df.empty:\n",
    "        sampled_df = filtered_df.sample(n=min(k, len(filtered_df)), random_state=random_state)\n",
    "        return sampled_df[attribute].tolist()\n",
    "    else:\n",
    "        return []\n",
    "\n",
    "def filter_attribute_diff_domain(df, row, model, attribute=\"subj\", k=10, random_state=101):\n",
    "    \"\"\"Filters attribute based on specific criteria.\"\"\"\n",
    "    # Combine conditions to filter df in one step\n",
    "    conditions = (\n",
    "        (df[attribute] != row[attribute]) &\n",
    "        (df[\"prop\"] != row[\"prop\"]) &\n",
    "        (df[\"len\"].apply(lambda x: x == len(model.reader_tokenizer.tokenize(row[attribute]))))\n",
    "    )\n",
    "\n",
    "    filtered_df = df[conditions]\n",
    "\n",
    "    if not filtered_df.empty:\n",
    "        sampled_df = filtered_df.sample(n=min(k, len(filtered_df)), random_state=random_state)\n",
    "        return sampled_df[attribute].tolist()\n",
    "    else:\n",
    "        return []"
   ]
  },
  {
   "cell_type": "code",
   "execution_count": 17,
   "metadata": {},
   "outputs": [],
   "source": [
    "def generated_is_matched(answer, generated):\n",
    "    return generated and (answer == generated or generated in answer or answer in generated)\n",
    "\n",
    "\n",
    "def batchify(lst, batch_size):\n",
    "    for i in range(0, len(lst), batch_size):\n",
    "        yield lst[i:i + batch_size]\n",
    "\n",
    "\n",
    "def attribute_status(text, attr1, attr2):\n",
    "    status = [False, False]\n",
    "    if attr1 in text:\n",
    "        _text = copy.deepcopy(text)\n",
    "        _text = re.sub(fr'\\b{re.escape(attr1)}\\b', f\"[{attr1.upper()}_REPLACED]\", _text)\n",
    "        \n",
    "        status[0] = True\n",
    "        if attr2 in _text:\n",
    "            status[1] = True\n",
    "        else:\n",
    "            status[1] = False\n",
    "    else:\n",
    "        status = [False, False]\n",
    "\n",
    "    return all(status)\n",
    "\n",
    "def pick_the_candidates(df, batch_size=5):\n",
    "    data = []\n",
    "    for i, row in tqdm(df.iterrows(), total=len(df)):\n",
    "        query = row[\"query\"]\n",
    "        answers = row[\"answers\"]\n",
    "\n",
    "        question = row[\"question\"]\n",
    "        subj = row[\"subj\"]\n",
    "        prop = row[\"prop\"]\n",
    "        obj = row[\"obj\"]\n",
    "        views = row[\"views\"]\n",
    "\n",
    "\n",
    "        subj_cf_same_domain = filter_attribute_same_domain(subj_df, row, model, attribute=\"subj\")\n",
    "        obj_cf_same_domain = filter_attribute_same_domain(obj_df, row, model, attribute=\"obj\")\n",
    "\n",
    "        subj_cf_diff_domain = filter_attribute_diff_domain(subj_df, row, model, attribute=\"subj\")\n",
    "        obj_cf_diff_domain = filter_attribute_diff_domain(obj_df, row, model, attribute=\"obj\")\n",
    "\n",
    "        if not len(subj_cf_same_domain) > 1 or not len(obj_cf_same_domain) > 1:\n",
    "            continue\n",
    "\n",
    "\n",
    "        p = row[\"passages\"][0]\n",
    "        subj_status = attribute_status(p[\"text\"], subj, obj)\n",
    "        obj_status = attribute_status(p[\"text\"], obj, subj)\n",
    "\n",
    "        if not subj_status or not obj_status:\n",
    "            continue\n",
    "\n",
    "        prompts_nocontext = [{\"query\": query, \"passages\": [{\"title\": \"\", \"text\": \"\"}], \"answers\": answers}]\n",
    "        prompt_split = len(prompts_nocontext)\n",
    "        prompts_context = [{\"query\": query, \"passages\": [{\"title\": \" \", \"text\": p[\"text\"]}], \"answers\": answers}]\n",
    "\n",
    "        g = predict_token(model, prompts_nocontext + prompts_context, n_context=1).predicted_text\n",
    "        for i in range(prompt_split):\n",
    "            gen_nocontext_matched = generated_is_matched(answers[0], g[i])\n",
    "            gen_context_matched = generated_is_matched(answers[0], g[i + prompt_split])\n",
    "\n",
    "            data.append({\n",
    "                \"question\": question,\n",
    "                \"answers\": answers,\n",
    "                \"passages\": [p],\n",
    "                \"subj\": subj,\n",
    "                \"prop\": prop,\n",
    "                \"obj\": obj,\n",
    "                \"views\": views,\n",
    "                \"query\": query,\n",
    "                \"gen_nocontext\": g[i],\n",
    "                \"gen_context\": g[i + prompt_split],\n",
    "                \"gen_nocontext_matched\": gen_nocontext_matched,\n",
    "                \"gen_context_matched\": gen_context_matched,\n",
    "                \"matched\": gen_nocontext_matched and gen_context_matched,\n",
    "                # \"prop_cf\": [context_templates[cf].format(subj=subj, obj=obj) for cf in relation_counterfactuals[prop]],\n",
    "                \"prop_cf\": [],\n",
    "                \"subj_cf\": subj_cf_same_domain,\n",
    "                \"obj_cf\": obj_cf_same_domain,\n",
    "                \"subj_cf_diff\": subj_cf_diff_domain,\n",
    "                \"obj_cf_diff\": obj_cf_diff_domain,\n",
    "            })\n",
    "            \n",
    "            break\n",
    "\n",
    "        break\n",
    "    \n",
    "    return pd.DataFrame(data)"
   ]
  },
  {
   "cell_type": "code",
   "execution_count": 18,
   "metadata": {},
   "outputs": [
    {
     "name": "stdout",
     "output_type": "stream",
     "text": [
      "Number of data: 14221\n"
     ]
    },
    {
     "name": "stderr",
     "output_type": "stream",
     "text": [
      "  0%|          | 0/14221 [00:00<?, ?it/s]/mimer/NOBACKUP/groups/snic2022-22-1003/APP/rag-memory-interplay/venv/lib/python3.9/site-packages/transformers/modeling_utils.py:1126: FutureWarning: The `device` argument is deprecated and will be removed in v5 of Transformers.\n",
      "  warnings.warn(\n",
      "/mimer/NOBACKUP/groups/snic2022-22-1003/APP/rag-memory-interplay/venv/lib/python3.9/site-packages/transformers/modeling_utils.py:1080: FutureWarning: The `device` argument is deprecated and will be removed in v5 of Transformers.\n",
      "  warnings.warn(\n",
      "  0%|          | 0/14221 [00:02<?, ?it/s]"
     ]
    },
    {
     "name": "stdout",
     "output_type": "stream",
     "text": [
      "Number of data: 1\n"
     ]
    },
    {
     "name": "stderr",
     "output_type": "stream",
     "text": [
      "\n"
     ]
    },
    {
     "data": {
      "text/html": [
       "<div>\n",
       "<style scoped>\n",
       "    .dataframe tbody tr th:only-of-type {\n",
       "        vertical-align: middle;\n",
       "    }\n",
       "\n",
       "    .dataframe tbody tr th {\n",
       "        vertical-align: top;\n",
       "    }\n",
       "\n",
       "    .dataframe thead th {\n",
       "        text-align: right;\n",
       "    }\n",
       "</style>\n",
       "<table border=\"1\" class=\"dataframe\">\n",
       "  <thead>\n",
       "    <tr style=\"text-align: right;\">\n",
       "      <th></th>\n",
       "      <th>question</th>\n",
       "      <th>answers</th>\n",
       "      <th>passages</th>\n",
       "      <th>subj</th>\n",
       "      <th>prop</th>\n",
       "      <th>obj</th>\n",
       "      <th>views</th>\n",
       "      <th>query</th>\n",
       "      <th>gen_nocontext</th>\n",
       "      <th>gen_context</th>\n",
       "      <th>gen_nocontext_matched</th>\n",
       "      <th>gen_context_matched</th>\n",
       "      <th>matched</th>\n",
       "      <th>prop_cf</th>\n",
       "      <th>subj_cf</th>\n",
       "      <th>obj_cf</th>\n",
       "      <th>subj_cf_diff</th>\n",
       "      <th>obj_cf_diff</th>\n",
       "    </tr>\n",
       "  </thead>\n",
       "  <tbody>\n",
       "    <tr>\n",
       "      <th>0</th>\n",
       "      <td>What is George Rankin's occupation?</td>\n",
       "      <td>[politician]</td>\n",
       "      <td>[{'title': '', 'text': 'The occupation of Geor...</td>\n",
       "      <td>George Rankin</td>\n",
       "      <td>occupation</td>\n",
       "      <td>politician</td>\n",
       "      <td>{'s_pop': '142', 'o_pop': '25692'}</td>\n",
       "      <td>question: What is George Rankin's occupation? ...</td>\n",
       "      <td>a lawyer</td>\n",
       "      <td>politician</td>\n",
       "      <td>False</td>\n",
       "      <td>True</td>\n",
       "      <td>False</td>\n",
       "      <td>[]</td>\n",
       "      <td>[Meg McCall, Nathan Purdee, Guy Joseph Bonnet,...</td>\n",
       "      <td>[illustrator, model, musician, psychiatrist, l...</td>\n",
       "      <td>[Mary of Woodstock, Bad News Bears, Rakhyah Di...</td>\n",
       "      <td>[Madrid, Lisbon, Armenia, Slovakia, Columbia, ...</td>\n",
       "    </tr>\n",
       "  </tbody>\n",
       "</table>\n",
       "</div>"
      ],
      "text/plain": [
       "                              question       answers  \\\n",
       "0  What is George Rankin's occupation?  [politician]   \n",
       "\n",
       "                                            passages           subj  \\\n",
       "0  [{'title': '', 'text': 'The occupation of Geor...  George Rankin   \n",
       "\n",
       "         prop         obj                               views  \\\n",
       "0  occupation  politician  {'s_pop': '142', 'o_pop': '25692'}   \n",
       "\n",
       "                                               query gen_nocontext  \\\n",
       "0  question: What is George Rankin's occupation? ...      a lawyer   \n",
       "\n",
       "  gen_context  gen_nocontext_matched  gen_context_matched  matched prop_cf  \\\n",
       "0  politician                  False                 True    False      []   \n",
       "\n",
       "                                             subj_cf  \\\n",
       "0  [Meg McCall, Nathan Purdee, Guy Joseph Bonnet,...   \n",
       "\n",
       "                                              obj_cf  \\\n",
       "0  [illustrator, model, musician, psychiatrist, l...   \n",
       "\n",
       "                                        subj_cf_diff  \\\n",
       "0  [Mary of Woodstock, Bad News Bears, Rakhyah Di...   \n",
       "\n",
       "                                         obj_cf_diff  \n",
       "0  [Madrid, Lisbon, Armenia, Slovakia, Columbia, ...  "
      ]
     },
     "execution_count": 18,
     "metadata": {},
     "output_type": "execute_result"
    }
   ],
   "source": [
    "print(f\"Number of data: {len(df)}\")\n",
    "matched_df = pick_the_candidates(df)\n",
    "print(f\"Number of data: {len(matched_df)}\")\n",
    "matched_df.head()"
   ]
  },
  {
   "cell_type": "code",
   "execution_count": 19,
   "metadata": {},
   "outputs": [],
   "source": [
    "def save_data(df, save_dir, kind, groupby=\"prop\"):\n",
    "    save_dir = f\"{save_dir}-{kind}\"\n",
    "    os.makedirs(save_dir, exist_ok=True)\n",
    "    with open(f\"{save_dir}-data.jsonl\", \"w\", encoding=\"utf-8\") as fj:\n",
    "        for index, row in df.iterrows():\n",
    "            fj.write(json.dumps(row.to_dict()) + \"\\n\")\n",
    "\n",
    "    props = df[groupby].unique()\n",
    "    for prop in props:\n",
    "        prop_code = prop.replace(\" \", '_')\n",
    "        prop_df = df[df[groupby] == prop]\n",
    "\n",
    "        with open(f\"{save_dir}/{prop_code}.jsonl\", \"w\", encoding=\"utf-8\") as fj:\n",
    "            for index, row in prop_df.iterrows():\n",
    "                fj.write(json.dumps(row.to_dict()) + \"\\n\")"
   ]
  },
  {
   "cell_type": "code",
   "execution_count": 20,
   "metadata": {},
   "outputs": [
    {
     "data": {
      "text/plain": [
       "'../data/syn/popqa/data/matched'"
      ]
     },
     "execution_count": 20,
     "metadata": {},
     "output_type": "execute_result"
    }
   ],
   "source": [
    "SAVE_DIR = \"../data/syn/popqa/data/matched\"\n",
    "SAVE_DIR"
   ]
  },
  {
   "cell_type": "code",
   "execution_count": 21,
   "metadata": {},
   "outputs": [
    {
     "name": "stdout",
     "output_type": "stream",
     "text": [
      "Collected 0/1\n",
      "Collected 0/1\n",
      "Collected 0/1\n",
      "Collected 1/1\n"
     ]
    }
   ],
   "source": [
    "save_data(matched_df, SAVE_DIR, \"all\")\n",
    "\n",
    "\n",
    "df_both = matched_df[matched_df[\"matched\"] == True]\n",
    "print(f\"Collected {len(df_both)}/{len(matched_df)}\")\n",
    "save_data(df_both, SAVE_DIR, \"both\")\n",
    "\n",
    "df_both_first = matched_df[matched_df[\"matched\"] == True].groupby('question').first().reset_index()\n",
    "print(f\"Collected {len(df_both_first)}/{len(matched_df)}\")\n",
    "save_data(df_both_first, SAVE_DIR, \"both-first\")\n",
    "\n",
    "df_gen_nocontext = matched_df[matched_df[\"gen_nocontext_matched\"] == True]\n",
    "print(f\"Collected {len(df_gen_nocontext)}/{len(matched_df)}\")\n",
    "save_data(df_gen_nocontext, SAVE_DIR, \"gen-nocontext\")\n",
    "\n",
    "df_gen_context = matched_df[matched_df[\"gen_context_matched\"] == True]\n",
    "print(f\"Collected {len(df_gen_context)}/{len(matched_df)}\")\n",
    "save_data(df_gen_context, SAVE_DIR, \"gen-context\")"
   ]
  }
 ],
 "metadata": {
  "kernelspec": {
   "display_name": "venv",
   "language": "python",
   "name": "python3"
  },
  "language_info": {
   "codemirror_mode": {
    "name": "ipython",
    "version": 3
   },
   "file_extension": ".py",
   "mimetype": "text/x-python",
   "name": "python",
   "nbconvert_exporter": "python",
   "pygments_lexer": "ipython3",
   "version": "3.9.5 (default, Feb  1 2024, 17:59:41) \n[GCC 10.3.0]"
  },
  "orig_nbformat": 4,
  "vscode": {
   "interpreter": {
    "hash": "c924a3b366f2428512e8119f66ee34e750cd77838d106b793d81686518d5af6d"
   }
  }
 },
 "nbformat": 4,
 "nbformat_minor": 2
}
